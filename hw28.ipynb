{
  "nbformat": 4,
  "nbformat_minor": 0,
  "metadata": {
    "colab": {
      "provenance": [],
      "authorship_tag": "ABX9TyMsW42Fm1jsLGOIJVHX6VQW",
      "include_colab_link": true
    },
    "kernelspec": {
      "name": "python3",
      "display_name": "Python 3"
    },
    "language_info": {
      "name": "python"
    }
  },
  "cells": [
    {
      "cell_type": "markdown",
      "metadata": {
        "id": "view-in-github",
        "colab_type": "text"
      },
      "source": [
        "<a href=\"https://colab.research.google.com/github/holera2008/hw28/blob/main/hw28.ipynb\" target=\"_parent\"><img src=\"https://colab.research.google.com/assets/colab-badge.svg\" alt=\"Open In Colab\"/></a>"
      ]
    },
    {
      "cell_type": "code",
      "execution_count": null,
      "metadata": {
        "id": "2Xx1703OLJoa"
      },
      "outputs": [],
      "source": [
        "#task1\n",
        "class MyRange:\n",
        "    MAX_VALUE = 10\n",
        "    def __init__(self):\n",
        "        self.current_value = 0\n",
        "    def __next__(self):\n",
        "        if self.current_value < self.MAX_VALUE:\n",
        "            self.current_value += 1\n",
        "            return self.current_value\n",
        "        raise StopIteration\n",
        "\n",
        "\n",
        "class Iterator:\n",
        "    def __iter__(self):\n",
        "        return MyRange()\n",
        "\n",
        "\n",
        "c = Iterator()\n",
        "print(list(c))\n",
        "for i in c:\n",
        "    print(i)"
      ]
    },
    {
      "cell_type": "code",
      "source": [
        "#task2\n",
        "class Timer:\n",
        "    def __enter__(self):\n",
        "        start = time.time()\n",
        "        print('Stopwatch started <3')\n",
        "        while True:\n",
        "            command = input(\"Print 'stop' if you want to stop the stopwatch.\\n\")\n",
        "            if command == \"stop\":\n",
        "                end = time.time()\n",
        "                time_ = end - start\n",
        "                print(f'{math.trunc(time_)} seconds.')\n",
        "                return self\n",
        "            else:\n",
        "                print(\"Command isn't familiar.\")\n",
        "\n",
        "    def __exit__(self, exc_type, exc_val, exc_tb):\n",
        "        print('Goodbye!')\n",
        "\n",
        "\n",
        "with Timer() as t:\n",
        "    print('Thanks for using our stopwatch <3')"
      ],
      "metadata": {
        "id": "Y9oKePwALT-5"
      },
      "execution_count": null,
      "outputs": []
    },
    {
      "cell_type": "code",
      "source": [
        "#task1 питання\n",
        "class MyRange:\n",
        "    def __init(self, MAX_VALUE):\n",
        "        self.MAX_VALUE = MAX_VALUE\n",
        "        self.current_value = 0\n",
        "    def __next__(self):\n",
        "        if self.current_value < self.MAX_VALUE:\n",
        "            self.current_value += 1\n",
        "            return self.current_value\n",
        "        raise StopIteration\n",
        "\n",
        "class Iterator:\n",
        "    def __iter__(self, max_value):\n",
        "        return Iterable(max_value)\n",
        "\n",
        "\n",
        "c = Iterator()\n",
        "print(list(c))\n"
      ],
      "metadata": {
        "id": "trpz0LklLcid"
      },
      "execution_count": null,
      "outputs": []
    }
  ]
}